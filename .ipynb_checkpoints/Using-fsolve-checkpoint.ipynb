{
 "cells": [
  {
   "cell_type": "markdown",
   "metadata": {},
   "source": [
    "### Optimisation with no constraints (single variable)- \n",
    "Consider the given function-  \n",
    "$f=5x^2-40x+20$  \n",
    "Check for its maxima or minima \n"
   ]
  },
  {
   "cell_type": "code",
   "execution_count": 1,
   "metadata": {},
   "outputs": [
    {
     "name": "stdout",
     "output_type": "stream",
     "text": [
      "The value of x is  [4.]\n",
      "The solution will give minima of the function.\n",
      "The optimal value of the solution is:  [-60.]\n"
     ]
    }
   ],
   "source": [
    "from scipy.optimize import fsolve\n",
    "\n",
    "# Defining the optmisation function\n",
    "def opt_function(x):\n",
    "    return 5*x**2 - 40*x + 20\n",
    "\n",
    "#Defining the derivative fucntion\n",
    "def der_function(x):\n",
    "    return 10*x - 40\n",
    "\n",
    "#Defining the double derivative\n",
    "def double_der(x):\n",
    "    return 10\n",
    "\n",
    "x = fsolve(der_function, 1) #Taking initial guess\n",
    "\n",
    "print('The value of x is ', x)\n",
    "\n",
    "if double_der(x)>0:\n",
    "    print('The solution will give minima of the function.')\n",
    "else:\n",
    "    print('The solution will give maximum value of the function.')\n",
    "    \n",
    "print('The optimal value of the solution is: ', opt_function(x))"
   ]
  },
  {
   "cell_type": "markdown",
   "metadata": {},
   "source": [
    "## Optimisation with no constraint(Multi variable)-\n",
    "\n",
    "Consider the given function with two variables-  \n",
    "$3x^2-12x+4xy+2y^2-8y+100$  \n",
    "Find the optimal value of the function\n"
   ]
  },
  {
   "cell_type": "code",
   "execution_count": 2,
   "metadata": {},
   "outputs": [
    {
     "name": "stdout",
     "output_type": "stream",
     "text": [
      "The value of x is  1.9999999999999996 And The value of y is  6.661338147742861e-16\n",
      "The minimum value of the function is:  88.0\n"
     ]
    }
   ],
   "source": [
    "from scipy.optimize import fsolve\n",
    "import numpy as np\n",
    "\n",
    "# Defining the optmisation function\n",
    "def opt_function(x,y):\n",
    "    return 3*x**2 - 12*x + 4*x*y + 2*y**2 -8*y +100\n",
    "\n",
    "#Defining the derivative fucntion\n",
    "def der_function(var):\n",
    "    x,y = var\n",
    "    eq1 = 6*x - 12 + 4*y\n",
    "    eq2 = 4*x + 4*y -8\n",
    "    return [eq1 , eq2]\n",
    "\n",
    "x,y = fsolve(der_function, (1,1))\n",
    "print('The value of x is ',x,'And','The value of y is ', y)\n",
    "\n",
    "#Checking for maxima or minima \n",
    "fxx=6\n",
    "fyy=4\n",
    "fxy=fyx=4\n",
    "\n",
    "H1= np.array([[fxx]])               #Hessian matrix\n",
    "H2=np.array([[fxx,fxy],[fyx,fyy]])  #Hessian matrix\n",
    "\n",
    "H1_det= np.linalg.det(H1)\n",
    "H2_det= np.linalg.det(H2)\n",
    "\n",
    "if H1_det>0:\n",
    "    if H2_det>0:\n",
    "        print(\"The minimum value of the function is: \", opt_function(x,y))\n",
    "    else:\n",
    "        print(\"The maximum value of the fucntion is: \",opt_function(x,y))"
   ]
  },
  {
   "cell_type": "markdown",
   "metadata": {},
   "source": [
    "## Optimsation with constraints-\n",
    "\n",
    "$f=x^2 + y^2 + z^2$\n",
    "\n",
    "is subjected to following constraints\n",
    "\n",
    "$x+y+z=1$\n",
    "\n",
    "$x+2y+3z=6$\n"
   ]
  },
  {
   "cell_type": "code",
   "execution_count": 3,
   "metadata": {},
   "outputs": [
    {
     "name": "stdout",
     "output_type": "stream",
     "text": [
      "-1.6666666666666665 0.3333333333333333 2.3333333333333335\n",
      "The optimal solution value of the function is:  8.333333333333334\n"
     ]
    }
   ],
   "source": [
    "from scipy.optimize import fsolve\n",
    "from math import exp\n",
    "\n",
    "def equations(vars):\n",
    "    x, y, z, g, h = vars\n",
    "    eq1 = 2*x-h-g      #Partial differential equation wrt x\n",
    "    eq2 = 2*y-h-2*g    #Partial differential equation wrt y\n",
    "    eq3 = 2*z-h-3*g    #Partial differential equation wrt z\n",
    "    eq4 = x+y+z-1      #First constraint equation\n",
    "    eq5 = x+2*y+3*z-6  #Second constraint equation\n",
    "    return [eq1, eq2, eq3, eq4, eq5]\n",
    "\n",
    "x, y, z, g, h =  fsolve(equations, (1,1,1,1,1)) #Taking intial guess\n",
    "\n",
    "print(x, y,z)\n",
    "def function(x,y,z):\n",
    "    eq = x**2 + y**2 + z**2 #Optimization fucntion \n",
    "    return (eq)\n",
    "\n",
    "print('The optimal solution value of the function is: ', function(x,y,z))\n"
   ]
  },
  {
   "cell_type": "code",
   "execution_count": null,
   "metadata": {},
   "outputs": [],
   "source": []
  }
 ],
 "metadata": {
  "kernelspec": {
   "display_name": "Python 3",
   "language": "python",
   "name": "python3"
  },
  "language_info": {
   "codemirror_mode": {
    "name": "ipython",
    "version": 3
   },
   "file_extension": ".py",
   "mimetype": "text/x-python",
   "name": "python",
   "nbconvert_exporter": "python",
   "pygments_lexer": "ipython3",
   "version": "3.8.3"
  }
 },
 "nbformat": 4,
 "nbformat_minor": 4
}
