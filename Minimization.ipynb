{
 "cells": [
  {
   "cell_type": "markdown",
   "metadata": {},
   "source": [
    "## `minimize_scalar()` and `minimize()` \n",
    "to minimize a function of one variable and many variables, respectively."
   ]
  },
  {
   "cell_type": "code",
   "execution_count": 1,
   "metadata": {},
   "outputs": [],
   "source": [
    "from scipy.optimize import minimize_scalar \n",
    "from scipy.optimize import minimize,Bounds"
   ]
  },
  {
   "cell_type": "markdown",
   "metadata": {},
   "source": [
    "\n",
    "## minimize_scalar\n",
    "\n",
    "`minimize_scalar` is used for scalar fucntion *(the function that accepts one number and gives one output)* .\n",
    "\n",
    "SciPy library has two built in methods :\n",
    "* **brent** - (this is  default method and generally gives better result)\n",
    " * without bound -  default\n",
    " * with bound - bounded\n",
    "* **golden**\n",
    "\n",
    "For **brent** and **golden** methods, an additional argument `bracket= (a,b)` can be provided for the initial guess in the range $(a,b)$. However, the solution can be found outside this range.\n",
    "\n",
    "To find solution in a particular range of the input variable then, we use `bounds =(a,b)` and method is specified using `method = bounded`.  *Remark - if bound is given without specifying the method, then it will take the default (unbounded) method*\n",
    "\n",
    "### Remark !!\n",
    "Minimization algorithm may give local minima (that may not be the global minima in the entier domain).\n",
    "\n",
    "Here, the function gave the local minima at $7.543$ in the bound $(1,10)$, where the minimum at $1.471$ is also present"
   ]
  },
  {
   "cell_type": "code",
   "execution_count": 2,
   "metadata": {},
   "outputs": [
    {
     "name": "stdout",
     "output_type": "stream",
     "text": [
      "     fun: -0.8589127507683367\n",
      "    nfev: 13\n",
      "     nit: 9\n",
      " success: True\n",
      "       x: 1.4711276771388557\n"
     ]
    }
   ],
   "source": [
    "import numpy as np\n",
    "import matplotlib.pyplot as plt\n",
    "import math\n",
    "def objective_function(x):\n",
    "    return -(np.exp(-x/10) * math.sin(x))\n",
    "\n",
    "\n",
    "# Minimization with default  method\n",
    "res = minimize_scalar(objective_function)\n",
    "print(res)"
   ]
  },
  {
   "cell_type": "code",
   "execution_count": 3,
   "metadata": {},
   "outputs": [
    {
     "name": "stdout",
     "output_type": "stream",
     "text": [
      "     fun: -0.45821972382120835\n",
      " message: 'Solution found.'\n",
      "    nfev: 11\n",
      "  status: 0\n",
      " success: True\n",
      "       x: 7.754312965072093\n"
     ]
    }
   ],
   "source": [
    "# Minimization with bound method\n",
    "res = minimize_scalar(objective_function,bracket=(1,5,6,7), method='bounded', bounds=(1,10))\n",
    "print(res)"
   ]
  },
  {
   "cell_type": "code",
   "execution_count": 4,
   "metadata": {},
   "outputs": [
    {
     "name": "stdout",
     "output_type": "stream",
     "text": [
      "     fun: -0.8589127507683367\n",
      "    nfev: 13\n",
      "     nit: 9\n",
      " success: True\n",
      "       x: 1.4711276748778765\n"
     ]
    }
   ],
   "source": [
    "# Minimization without bound method\n",
    "res = minimize_scalar(objective_function,bracket=(1,2), bounds=(5,10))\n",
    "print(res)"
   ]
  },
  {
   "cell_type": "markdown",
   "metadata": {},
   "source": [
    "The result of the `minimize_scalar` function gives ouput for various parameters like function value, number of function evaluation,number of iteration, status and value  of variable etc.\n",
    "\n",
    "To print only specific parameter we can use `res.parameter`\n",
    "for optimization function , `res.fun`\n",
    "for value of vairable, `res.x` etc."
   ]
  },
  {
   "cell_type": "code",
   "execution_count": 5,
   "metadata": {},
   "outputs": [
    {
     "data": {
      "text/plain": [
       "-0.8589127507683367"
      ]
     },
     "execution_count": 5,
     "metadata": {},
     "output_type": "execute_result"
    }
   ],
   "source": [
    "# Print the value of optimization function\n",
    "res.fun"
   ]
  },
  {
   "cell_type": "code",
   "execution_count": 6,
   "metadata": {},
   "outputs": [
    {
     "data": {
      "text/plain": [
       "[<matplotlib.lines.Line2D at 0x7f14d2cd7580>]"
      ]
     },
     "execution_count": 6,
     "metadata": {},
     "output_type": "execute_result"
    },
    {
     "data": {
      "image/png": "[encoded data removed]",
      "text/plain": [
       "<Figure size 432x288 with 1 Axes>"
      ]
     },
     "metadata": {
      "needs_background": "light"
     },
     "output_type": "display_data"
    }
   ],
   "source": [
    "a = -10\n",
    "b = 10\n",
    "c = 100\n",
    "plt.plot(np.linspace(a,b,c),[objective_function(x) for x in np.linspace(a,b,c)])"
   ]
  },
  {
   "cell_type": "markdown",
   "metadata": {},
   "source": [
    "## minimize\n",
    "\n",
    "this is the generallized method, that can handle multivariate function *(function having more than one variables)*\n",
    "\n",
    "**Syntax :** `scipy.optimize.minimize(fun, x0, args=(), method=None, jac=None, hess=None, hessp=None, bounds=None, constraints=(), tol=None, callback=None, options=None)`\n",
    "\n",
    "here, `fun` is the function that is to be minimized subjected to :\n",
    "\n",
    "`x0` is the initial guess of input variable.\n",
    "\n",
    "`args()` arguments can be defined for the function `fun` in case `fun` is defined with arbitrary `args()` **(optional)**\n",
    "\n",
    "`tol = ` is used to define the tolerance of the final solution. When tol is specified, the selected minimization algorithm sets some relevant solver-specific tolerance(s) equal to tol.  **(optional)**\n",
    "\n",
    "`method =` is used to define a particular method of minimizaition, it can be used to enhance the speed of computation based on the nature of the function. **(optional)**  \n",
    "\n",
    "`jac = ` and `hess = ` are the *Jacobian* and *Hessian* are the first and second differential of the function which can be defined to enhance the speed of computation. **(optional)**  \n",
    "\n",
    "`bounds = ` are defined for design variables to limit the solution in particular range of design variable. (optional)\n",
    "\n",
    "`constraints= ` are used to define the various constraints, that objective function is subjected to. **(optional)** \n",
    "\n",
    "`option = ` is used to define parameters for solvers including maximum itterations. **(optional)** \n",
    "\n",
    "Reference - [scipy.optimize.minimize](https://docs.scipy.org/doc/scipy/reference/generated/scipy.optimize.minimize.html#rdd2e1855725e-5), \n",
    " [real-python](https://realpython.com/python-scipy-cluster-optimize/) & \n",
    "[youtube](https://www.youtube.com/watch?v=cXHvC_FGx24)\n"
   ]
  },
  {
   "cell_type": "markdown",
   "metadata": {},
   "source": [
    "### Un-constrained function\n",
    "\n",
    "A simple function in single variable is to be minimized, subjected to no constraints.  \n",
    "$$f(x) = x^2 + 2$$\n",
    "\n",
    "Using `minimize`"
   ]
  },
  {
   "cell_type": "code",
   "execution_count": 7,
   "metadata": {},
   "outputs": [
    {
     "data": {
      "text/plain": [
       "      fun: 2.0\n",
       " hess_inv: array([[0.5]])\n",
       "      jac: array([2.98023224e-08])\n",
       "  message: 'Optimization terminated successfully.'\n",
       "     nfev: 6\n",
       "      nit: 2\n",
       "     njev: 3\n",
       "   status: 0\n",
       "  success: True\n",
       "        x: array([5.31130494e-09])"
      ]
     },
     "execution_count": 7,
     "metadata": {},
     "output_type": "execute_result"
    }
   ],
   "source": [
    "def f_x(x):\n",
    "    return (x**2 + 2)\n",
    "\n",
    "\n",
    "minimize(f_x,1)"
   ]
  },
  {
   "cell_type": "markdown",
   "metadata": {},
   "source": [
    "### Constrained function\n",
    "\n",
    "Minimize the function\n",
    "$$ x_1  x_4 (x_1 + x_2 + x_3) + x_3 $$\n",
    "\n",
    "Subjected to :  \n",
    "$x_1 x_2 x_3 x_4 \\geq 25$  \n",
    "$ x_1^2 + x_2^2 + x_3^2 + x_4^2 = 40$  \n",
    "$ 1 \\leq x_1, x_2, x_3, x_4 \\leq 5 $  \n",
    "\n",
    "Initial guess $= (1,5,5,1)$\n",
    "\n",
    "*Remark - while defining the ineuqality constraints, the constraint function should be defined in the form* $f(x) \\geq 0$ "
   ]
  },
  {
   "cell_type": "code",
   "execution_count": 8,
   "metadata": {},
   "outputs": [
    {
     "data": {
      "text/plain": [
       "     fun: 17.01401724556073\n",
       "     jac: array([14.57227039,  1.37940764,  2.37940764,  9.56415081])\n",
       " message: 'Optimization terminated successfully'\n",
       "    nfev: 25\n",
       "     nit: 5\n",
       "    njev: 5\n",
       "  status: 0\n",
       " success: True\n",
       "       x: array([1.        , 4.74299607, 3.82115466, 1.37940764])"
      ]
     },
     "execution_count": 8,
     "metadata": {},
     "output_type": "execute_result"
    }
   ],
   "source": [
    "# Define optimize function\n",
    "def f_x(x):\n",
    "    return x[0] * x[3] * (x[0] + x[1] + x[2]) + x[2] \n",
    "\n",
    "#Define the constraint function\n",
    "def con_1(x):\n",
    "    return x[0] * x[1] * x[2] * x[3] -25.0\n",
    "\n",
    "def con_2(x):\n",
    "    return x[0]**2 + x[1]**2 + x[2]**2 + x[3]**2 - 40.0\n",
    "\n",
    "# Define the constraint type\n",
    "con1 ={'type': 'ineq', 'fun': con_1}\n",
    "con2 ={'type': 'eq', 'fun': con_2}\n",
    "\n",
    "# Define the bounds\n",
    "b = (1,5)\n",
    "bnds = (b,b,b,b) \n",
    "\n",
    "\n",
    "# Minimizing the objective function\n",
    "res = minimize(f_x,(1,5,5,1), bounds = bnds,  constraints=[con1,con2])\n",
    "res"
   ]
  },
  {
   "cell_type": "code",
   "execution_count": 9,
   "metadata": {},
   "outputs": [
    {
     "data": {
      "text/plain": [
       "17.01401724556073"
      ]
     },
     "execution_count": 9,
     "metadata": {},
     "output_type": "execute_result"
    }
   ],
   "source": [
    "res.fun"
   ]
  },
  {
   "cell_type": "code",
   "execution_count": null,
   "metadata": {},
   "outputs": [],
   "source": []
  }
 ],
 "metadata": {
  "kernelspec": {
   "display_name": "Python 3",
   "language": "python",
   "name": "python3"
  },
  "language_info": {
   "codemirror_mode": {
    "name": "ipython",
    "version": 3
   },
   "file_extension": ".py",
   "mimetype": "text/x-python",
   "name": "python",
   "nbconvert_exporter": "python",
   "pygments_lexer": "ipython3",
   "version": "3.8.3"
  }
 },
 "nbformat": 4,
 "nbformat_minor": 5
}
